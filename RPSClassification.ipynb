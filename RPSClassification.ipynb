{
 "nbformat": 4,
 "nbformat_minor": 0,
 "metadata": {
  "colab": {
   "provenance": []
  },
  "kernelspec": {
   "name": "python3",
   "display_name": "Python 3"
  },
  "language_info": {
   "name": "python"
  },
  "accelerator": "GPU",
  "gpuClass": "standard"
 },
 "cells": [
  {
   "cell_type": "code",
   "source": [
    "import tensorflow as tf\n",
    "import tensorflow_datasets as tfds\n",
    "from tensorflow.keras import layers, Model"
   ],
   "metadata": {
    "id": "sJZaHphVfwfm",
    "pycharm": {
     "name": "#%%\n"
    }
   },
   "execution_count": 1,
   "outputs": []
  },
  {
   "cell_type": "code",
   "execution_count": 2,
   "metadata": {
    "id": "fPfF0gLPfoEI",
    "pycharm": {
     "name": "#%%\n"
    }
   },
   "outputs": [],
   "source": [
    "train_data = tfds.load(\"rock_paper_scissors\", split=\"train\", shuffle_files=True, as_supervised=True)"
   ]
  },
  {
   "cell_type": "code",
   "source": [
    "test_data = tfds.load(\"rock_paper_scissors\", split=\"test\", shuffle_files=True, as_supervised=True)"
   ],
   "metadata": {
    "id": "7fOtE6Jwggys",
    "pycharm": {
     "name": "#%%\n"
    }
   },
   "execution_count": 3,
   "outputs": []
  },
  {
   "cell_type": "code",
   "source": [
    "batch_size = 32\n",
    "AUTOTUNE = tf.data.AUTOTUNE\n",
    "IMG_SIZE = 150\n",
    "\n",
    "def augment(dataset):\n",
    "  model = tf.keras.Sequential([\n",
    "      layers.RandomFlip(\"horizontal_and_vertical\"),\n",
    "      layers.RandomRotation(0.2),\n",
    "      layers.RandomZoom(0.2)\n",
    "      ])\n",
    "  dataset = dataset.batch(batch_size)\n",
    "  dataset = dataset.map(lambda x, y: (model(x, training=True), y), \n",
    "              num_parallel_calls=AUTOTUNE)\n",
    "\n",
    "  # Use buffered prefetching on all datasets.\n",
    "  return dataset.prefetch(buffer_size=AUTOTUNE)"
   ],
   "metadata": {
    "id": "-iQnxuuT3uJz",
    "pycharm": {
     "name": "#%%\n"
    }
   },
   "execution_count": 4,
   "outputs": []
  },
  {
   "cell_type": "code",
   "source": [
    "normalization_layer = layers.Rescaling(1./255)\n",
    "resizing_layer = layers.Resizing(IMG_SIZE,IMG_SIZE)\n",
    "\n",
    "normalized_train_data = train_data.map(lambda x, y: (resizing_layer(normalization_layer(x)), y))\n",
    "normalized_test_data = test_data.map(lambda x, y: (resizing_layer(normalization_layer(x)), y))"
   ],
   "metadata": {
    "id": "bkCBDCtTy1Z5",
    "pycharm": {
     "name": "#%%\n"
    }
   },
   "execution_count": 5,
   "outputs": []
  },
  {
   "cell_type": "code",
   "source": [
    "img_input = layers.Input(shape=(150,150,3))\n",
    "\n",
    "x = layers.Conv2D(16, 3, activation=\"relu\")(img_input)\n",
    "x = layers.MaxPooling2D(2)(x)\n",
    "\n",
    "x = layers.Conv2D(32, 3, activation=\"relu\")(x)\n",
    "x = layers.MaxPooling2D(2)(x)\n",
    "\n",
    "x = layers.Conv2D(64, 3, activation=\"relu\", kernel_regularizer=\"l2\")(x)\n",
    "x = layers.MaxPooling2D(2)(x)\n",
    "\n",
    "x = layers.Flatten()(x)\n",
    "x = layers.Dense(512, activation=\"relu\", activity_regularizer=\"l2\")(x)\n",
    "x = layers.Dropout(0.5)(x)\n",
    "\n",
    "output = layers.Dense(3, activation=\"softmax\")(x)\n",
    "\n",
    "model = Model(img_input, output)"
   ],
   "metadata": {
    "id": "iwUun1_ugyEQ",
    "pycharm": {
     "name": "#%%\n"
    }
   },
   "execution_count": 6,
   "outputs": []
  },
  {
   "cell_type": "code",
   "source": [
    "model.summary()"
   ],
   "metadata": {
    "colab": {
     "base_uri": "https://localhost:8080/"
    },
    "id": "GqxnyvexhM4n",
    "outputId": "52b9074f-664b-49a7-d2a4-503ce8f9e1c9",
    "pycharm": {
     "name": "#%%\n"
    }
   },
   "execution_count": 7,
   "outputs": [
    {
     "name": "stdout",
     "output_type": "stream",
     "text": [
      "Model: \"model\"\n",
      "_________________________________________________________________\n",
      " Layer (type)                Output Shape              Param #   \n",
      "=================================================================\n",
      " input_1 (InputLayer)        [(None, 150, 150, 3)]     0         \n",
      "                                                                 \n",
      " conv2d (Conv2D)             (None, 148, 148, 16)      448       \n",
      "                                                                 \n",
      " max_pooling2d (MaxPooling2D  (None, 74, 74, 16)       0         \n",
      " )                                                               \n",
      "                                                                 \n",
      " conv2d_1 (Conv2D)           (None, 72, 72, 32)        4640      \n",
      "                                                                 \n",
      " max_pooling2d_1 (MaxPooling  (None, 36, 36, 32)       0         \n",
      " 2D)                                                             \n",
      "                                                                 \n",
      " conv2d_2 (Conv2D)           (None, 34, 34, 64)        18496     \n",
      "                                                                 \n",
      " max_pooling2d_2 (MaxPooling  (None, 17, 17, 64)       0         \n",
      " 2D)                                                             \n",
      "                                                                 \n",
      " flatten (Flatten)           (None, 18496)             0         \n",
      "                                                                 \n",
      " dense (Dense)               (None, 512)               9470464   \n",
      "                                                                 \n",
      " dropout (Dropout)           (None, 512)               0         \n",
      "                                                                 \n",
      " dense_1 (Dense)             (None, 3)                 1539      \n",
      "                                                                 \n",
      "=================================================================\n",
      "Total params: 9,495,587\n",
      "Trainable params: 9,495,587\n",
      "Non-trainable params: 0\n",
      "_________________________________________________________________\n"
     ]
    }
   ]
  },
  {
   "cell_type": "code",
   "source": [
    "! kaggle datasets download glushko/rock-paper-scissors-dataset"
   ],
   "metadata": {
    "colab": {
     "base_uri": "https://localhost:8080/"
    },
    "id": "No65VZ_HKHsH",
    "outputId": "57e8dd36-1579-491d-fc57-01f918de86c7",
    "pycharm": {
     "name": "#%%\n"
    }
   },
   "execution_count": 8,
   "outputs": [
    {
     "name": "stdout",
     "output_type": "stream",
     "text": [
      "rock-paper-scissors-dataset.zip: Skipping, found more recently modified local copy (use --force to force download)\n"
     ]
    }
   ]
  },
  {
   "cell_type": "code",
   "source": [
    "ext_train_data = tf.keras.utils.image_dataset_from_directory(\".//train\",image_size=(150, 150), class_names=[\"rock\",\"paper\",\"scissors\"],shuffle=True, batch_size=None)\n",
    "ext_train_data = ext_train_data.map(lambda x, y: (normalization_layer(x), tf.cast(y,tf.int64)))\n",
    "ext_test_data = tf.keras.utils.image_dataset_from_directory(\".//test\",image_size=(150, 150), class_names=[\"rock\",\"paper\",\"scissors\"],shuffle=True, batch_size=32)\n",
    "ext_test_data = ext_test_data.map(lambda x, y: (normalization_layer(x), tf.cast(y,tf.int64)))\n",
    "ext_val_data = tf.keras.utils.image_dataset_from_directory(\".//val\",image_size=(150,150), class_names=[\"rock\",\"paper\",\"scissors\"],shuffle=True, batch_size=None)\n",
    "ext_val_data = ext_val_data.map(lambda x, y: (normalization_layer(x), tf.cast(y,tf.int64)))"
   ],
   "metadata": {
    "colab": {
     "base_uri": "https://localhost:8080/"
    },
    "id": "PQYUBVWFK4--",
    "outputId": "9806c715-0346-4571-ec60-0c53b6c3ac0b",
    "pycharm": {
     "name": "#%%\n"
    }
   },
   "execution_count": 9,
   "outputs": [
    {
     "name": "stdout",
     "output_type": "stream",
     "text": [
      "Found 1020 files belonging to 3 classes.\n",
      "Found 540 files belonging to 3 classes.\n",
      "Found 804 files belonging to 3 classes.\n"
     ]
    }
   ]
  },
  {
   "cell_type": "code",
   "source": [
    "from tensorflow.keras.optimizers import Adam\n",
    "from tensorflow.keras.callbacks import EarlyStopping, ModelCheckpoint, ReduceLROnPlateau\n",
    "\n",
    "early_stopping = EarlyStopping(monitor='val_acc', patience=5, verbose=1, mode='max')\n",
    "model_checkpoint = ModelCheckpoint('./my_model.hdf5', save_best_only=True, save_weights_only=True, monitor='val_acc', mode='max')\n",
    "reduce_lr= ReduceLROnPlateau(monitor='val_loss', factor=0.2, patience=5, min_lr=0.0001)\n",
    "\n",
    "model.compile(loss=\"sparse_categorical_crossentropy\",\n",
    "              optimizer=Adam(learning_rate=0.001),\n",
    "              metrics=[\"acc\"])"
   ],
   "metadata": {
    "id": "_lPPSQsxqThA",
    "pycharm": {
     "name": "#%%\n"
    }
   },
   "execution_count": 10,
   "outputs": []
  },
  {
   "cell_type": "code",
   "execution_count": 11,
   "outputs": [],
   "source": [
    "merged_train_data = normalized_train_data.concatenate(ext_train_data)\n",
    "merged_val_data = normalized_test_data.concatenate(ext_val_data)"
   ],
   "metadata": {
    "collapsed": false,
    "pycharm": {
     "name": "#%%\n"
    }
   }
  },
  {
   "cell_type": "code",
   "execution_count": 12,
   "outputs": [],
   "source": [
    "merged_train_data = merged_train_data.concatenate(merged_train_data)"
   ],
   "metadata": {
    "collapsed": false,
    "pycharm": {
     "name": "#%%\n"
    }
   }
  },
  {
   "cell_type": "code",
   "execution_count": null,
   "outputs": [],
   "source": [
    "batched_merged_train_data = augment(merged_train_data)\n",
    "batched_merged_val_data = merged_val_data.batch(batch_size)"
   ],
   "metadata": {
    "collapsed": false,
    "pycharm": {
     "name": "#%%\n",
     "is_executing": true
    }
   }
  },
  {
   "cell_type": "code",
   "source": [
    "batched_train_data = augment(normalized_train_data)\n",
    "batched_test_data = normalized_test_data.batch(batch_size)\n",
    "batched_ext_train_data = augment(ext_train_data)\n",
    "batched_ext_val_data = ext_val_data.batch(batch_size)"
   ],
   "metadata": {
    "colab": {
     "base_uri": "https://localhost:8080/"
    },
    "id": "eLEdp4iutp9Z",
    "outputId": "b0c31eb9-3300-4212-8237-82d9989e3a0e",
    "pycharm": {
     "name": "#%%\n",
     "is_executing": true
    }
   },
   "execution_count": null,
   "outputs": []
  },
  {
   "cell_type": "code",
   "source": [
    "history = model.fit(batched_merged_train_data,\n",
    "                    epochs=30,\n",
    "                    validation_data=batched_merged_val_data,\n",
    "                    callbacks=[early_stopping, model_checkpoint],\n",
    "                    shuffle=True)"
   ],
   "metadata": {
    "colab": {
     "base_uri": "https://localhost:8080/"
    },
    "id": "MW3BIBu2slLL",
    "outputId": "09b3e9ba-7788-4889-adbd-6c8be81fc8fc",
    "pycharm": {
     "name": "#%%\n"
    }
   },
   "execution_count": 15,
   "outputs": [
    {
     "name": "stdout",
     "output_type": "stream",
     "text": [
      "Epoch 1/30\n",
      "222/222 [==============================] - 22s 79ms/step - loss: 1.0166 - acc: 0.6297 - val_loss: 1.1153 - val_acc: 0.4753\n",
      "Epoch 2/30\n",
      "222/222 [==============================] - 21s 95ms/step - loss: 0.6067 - acc: 0.8240 - val_loss: 1.0246 - val_acc: 0.5425\n",
      "Epoch 3/30\n",
      "222/222 [==============================] - 19s 85ms/step - loss: 0.4608 - acc: 0.8653 - val_loss: 0.9517 - val_acc: 0.5978\n",
      "Epoch 4/30\n",
      "222/222 [==============================] - 20s 87ms/step - loss: 0.3894 - acc: 0.8856 - val_loss: 0.9131 - val_acc: 0.6122\n",
      "Epoch 5/30\n",
      "222/222 [==============================] - 20s 87ms/step - loss: 0.3462 - acc: 0.8960 - val_loss: 0.8955 - val_acc: 0.6310\n",
      "Epoch 6/30\n",
      "222/222 [==============================] - 22s 100ms/step - loss: 0.3234 - acc: 0.8972 - val_loss: 0.9716 - val_acc: 0.5842\n",
      "Epoch 7/30\n",
      "222/222 [==============================] - 21s 93ms/step - loss: 0.2902 - acc: 0.9130 - val_loss: 0.9097 - val_acc: 0.5927\n",
      "Epoch 8/30\n",
      "222/222 [==============================] - 23s 103ms/step - loss: 0.2752 - acc: 0.9182 - val_loss: 0.8286 - val_acc: 0.6386\n",
      "Epoch 9/30\n",
      "222/222 [==============================] - 22s 97ms/step - loss: 0.2630 - acc: 0.9175 - val_loss: 0.9173 - val_acc: 0.6267\n",
      "Epoch 10/30\n",
      "222/222 [==============================] - 28s 123ms/step - loss: 0.2512 - acc: 0.9240 - val_loss: 1.0212 - val_acc: 0.5944\n",
      "Epoch 11/30\n",
      "222/222 [==============================] - 21s 91ms/step - loss: 0.2348 - acc: 0.9306 - val_loss: 1.0518 - val_acc: 0.5986\n",
      "Epoch 12/30\n",
      "222/222 [==============================] - 20s 91ms/step - loss: 0.2314 - acc: 0.9316 - val_loss: 0.9409 - val_acc: 0.6088\n",
      "Epoch 13/30\n",
      "222/222 [==============================] - 21s 95ms/step - loss: 0.2112 - acc: 0.9397 - val_loss: 1.2757 - val_acc: 0.5816\n",
      "Epoch 13: early stopping\n"
     ]
    }
   ]
  },
  {
   "cell_type": "code",
   "source": [
    "acc = history.history['acc']\n",
    "val_acc = history.history['val_acc']\n",
    "\n",
    "loss = history.history['loss']\n",
    "val_loss = history.history['val_loss']\n",
    "\n",
    "epochs = range(len(acc))\n",
    "\n",
    "import matplotlib.pyplot as plt\n",
    "\n",
    "plt.plot(epochs, acc)\n",
    "plt.plot(epochs, val_acc)\n",
    "plt.title('Training and validation accuracy')\n",
    "\n",
    "plt.figure()\n",
    "\n",
    "plt.plot(epochs, loss)\n",
    "plt.plot(epochs, val_loss)\n",
    "plt.title('Training and validation loss')"
   ],
   "metadata": {
    "colab": {
     "base_uri": "https://localhost:8080/",
     "height": 562
    },
    "id": "IRm_qJh0zOlW",
    "outputId": "7b5af946-2050-4ec1-d68f-3639ad052584",
    "pycharm": {
     "name": "#%%\n"
    }
   },
   "execution_count": 16,
   "outputs": [
    {
     "data": {
      "text/plain": "Text(0.5, 1.0, 'Training and validation loss')"
     },
     "execution_count": 16,
     "metadata": {},
     "output_type": "execute_result"
    },
    {
     "data": {
      "text/plain": "<Figure size 432x288 with 1 Axes>",
      "image/png": "[encoded data removed]"
     },
     "metadata": {
      "needs_background": "light"
     },
     "output_type": "display_data"
    },
    {
     "data": {
      "text/plain": "<Figure size 432x288 with 1 Axes>",
      "image/png": "[encoded data removed]"
     },
     "metadata": {
      "needs_background": "light"
     },
     "output_type": "display_data"
    }
   ]
  },
  {
   "cell_type": "code",
   "execution_count": 17,
   "outputs": [
    {
     "name": "stdout",
     "output_type": "stream",
     "text": [
      "17/17 [==============================] - 1s 46ms/step - loss: 1.6846 - acc: 0.3889\n"
     ]
    },
    {
     "data": {
      "text/plain": "[1.6845552921295166, 0.3888888955116272]"
     },
     "execution_count": 17,
     "metadata": {},
     "output_type": "execute_result"
    }
   ],
   "source": [
    "model.evaluate(ext_test_data)"
   ],
   "metadata": {
    "collapsed": false,
    "pycharm": {
     "name": "#%%\n"
    }
   }
  },
  {
   "cell_type": "code",
   "execution_count": 18,
   "outputs": [],
   "source": [
    "from tensorflow.keras.applications.inception_v3 import InceptionV3"
   ],
   "metadata": {
    "collapsed": false,
    "pycharm": {
     "name": "#%%\n"
    }
   }
  },
  {
   "cell_type": "code",
   "execution_count": 19,
   "outputs": [],
   "source": [
    "pre_trained_model = InceptionV3(input_shape=(150, 150, 3), include_top=False)"
   ],
   "metadata": {
    "collapsed": false,
    "pycharm": {
     "name": "#%%\n"
    }
   }
  },
  {
   "cell_type": "code",
   "execution_count": 20,
   "outputs": [],
   "source": [
    "for layer in pre_trained_model.layers:\n",
    "  layer.trainable = False"
   ],
   "metadata": {
    "collapsed": false,
    "pycharm": {
     "name": "#%%\n"
    }
   }
  },
  {
   "cell_type": "code",
   "execution_count": 21,
   "outputs": [],
   "source": [
    "last_layer = pre_trained_model.get_layer('mixed7')\n",
    "last_output = last_layer.output"
   ],
   "metadata": {
    "collapsed": false,
    "pycharm": {
     "name": "#%%\n"
    }
   }
  },
  {
   "cell_type": "code",
   "execution_count": 22,
   "outputs": [
    {
     "name": "stderr",
     "output_type": "stream",
     "text": [
      "c:\\python39\\lib\\site-packages\\keras\\optimizers\\optimizer_v2\\adam.py:114: UserWarning: The `lr` argument is deprecated, use `learning_rate` instead.\n",
      "  super().__init__(name, **kwargs)\n"
     ]
    }
   ],
   "source": [
    "x = layers.Flatten()(last_output)\n",
    "x = layers.Dense(1024, activation='relu')(x)\n",
    "x = layers.Dropout(0.2)(x)\n",
    "x = layers.Dense(3, activation='softmax')(x)\n",
    "\n",
    "model = Model(pre_trained_model.input, x)\n",
    "model.compile(loss='sparse_categorical_crossentropy',\n",
    "              optimizer=Adam(lr=0.0001),\n",
    "              metrics=['acc'])"
   ],
   "metadata": {
    "collapsed": false,
    "pycharm": {
     "name": "#%%\n"
    }
   }
  },
  {
   "cell_type": "code",
   "execution_count": 23,
   "outputs": [
    {
     "name": "stdout",
     "output_type": "stream",
     "text": [
      "Epoch 1/20\n",
      "222/222 [==============================] - 31s 112ms/step - loss: 0.2445 - acc: 0.9109 - val_loss: 0.4287 - val_acc: 0.8316\n",
      "Epoch 2/20\n",
      "222/222 [==============================] - 22s 98ms/step - loss: 0.0761 - acc: 0.9742 - val_loss: 0.4373 - val_acc: 0.8444\n",
      "Epoch 3/20\n",
      "222/222 [==============================] - 23s 100ms/step - loss: 0.0520 - acc: 0.9833 - val_loss: 0.4664 - val_acc: 0.8308\n",
      "Epoch 4/20\n",
      "222/222 [==============================] - 23s 104ms/step - loss: 0.0354 - acc: 0.9880 - val_loss: 0.5465 - val_acc: 0.8112\n",
      "Epoch 5/20\n",
      "222/222 [==============================] - 21s 94ms/step - loss: 0.0649 - acc: 0.9797 - val_loss: 0.5764 - val_acc: 0.8282\n",
      "Epoch 6/20\n",
      "222/222 [==============================] - 21s 92ms/step - loss: 0.0366 - acc: 0.9876 - val_loss: 0.5602 - val_acc: 0.8010\n",
      "Epoch 7/20\n",
      "222/222 [==============================] - 21s 91ms/step - loss: 0.0280 - acc: 0.9910 - val_loss: 0.5774 - val_acc: 0.8231\n",
      "Epoch 7: early stopping\n"
     ]
    }
   ],
   "source": [
    "history = model.fit(batched_merged_train_data,\n",
    "                    epochs=20,\n",
    "                    validation_data=batched_merged_val_data,\n",
    "                    callbacks=[early_stopping ,model_checkpoint],\n",
    "                    shuffle=True)"
   ],
   "metadata": {
    "collapsed": false,
    "pycharm": {
     "name": "#%%\n"
    }
   }
  },
  {
   "cell_type": "code",
   "execution_count": 24,
   "outputs": [
    {
     "name": "stdout",
     "output_type": "stream",
     "text": [
      "17/17 [==============================] - 2s 100ms/step - loss: 1.0976 - acc: 0.6759\n"
     ]
    },
    {
     "data": {
      "text/plain": "[1.0975542068481445, 0.6759259104728699]"
     },
     "execution_count": 24,
     "metadata": {},
     "output_type": "execute_result"
    }
   ],
   "source": [
    "model.evaluate(ext_test_data)"
   ],
   "metadata": {
    "collapsed": false,
    "pycharm": {
     "name": "#%%\n"
    }
   }
  }
 ]
}